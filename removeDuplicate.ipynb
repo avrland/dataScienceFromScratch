{
  "nbformat": 4,
  "nbformat_minor": 0,
  "metadata": {
    "colab": {
      "name": "removeDuplicate",
      "provenance": [],
      "collapsed_sections": [],
      "authorship_tag": "ABX9TyPYUoIFRJCfMubEC+bNSJgJ",
      "include_colab_link": true
    },
    "kernelspec": {
      "name": "python3",
      "display_name": "Python 3"
    },
    "language_info": {
      "name": "python"
    }
  },
  "cells": [
    {
      "cell_type": "markdown",
      "metadata": {
        "id": "view-in-github",
        "colab_type": "text"
      },
      "source": [
        "<a href=\"https://colab.research.google.com/github/avrland/dataScienceFromScratch/blob/main/removeDuplicate.ipynb\" target=\"_parent\"><img src=\"https://colab.research.google.com/assets/colab-badge.svg\" alt=\"Open In Colab\"/></a>"
      ]
    },
    {
      "cell_type": "markdown",
      "metadata": {
        "id": "_dI7o2PejQVA"
      },
      "source": [
        "# Fetch example file\n",
        "We fetch there sample file with duplicates of title news. We're reading first lines to make sure if it's downloaded properly.\n"
      ]
    },
    {
      "cell_type": "code",
      "metadata": {
        "colab": {
          "base_uri": "https://localhost:8080/"
        },
        "id": "lsKYs1pI9LWo",
        "outputId": "ac3fde1c-0359-4138-f36d-06d819f6df30"
      },
      "source": [
        "!pip install wget\n",
        "import wget\n",
        "url = 'https://raw.githubusercontent.com/avrland/dataScienceFromScratch/main/titlesBase/titlesPL_with_duplicates.txt'\n",
        "wget.download(url, '/content/titles.txt')\n",
        "filename = '/content/titles.txt'  \n",
        "with open(filename) as fn:  \n",
        "  ln = fn.readline()\n",
        "  lncnt = 0\n",
        "  while lncnt < 5:\n",
        "       print(\"Line {}: {}\".format(lncnt, ln.strip()))\n",
        "       ln = fn.readline()\n",
        "       lncnt += 1"
      ],
      "execution_count": 11,
      "outputs": [
        {
          "output_type": "stream",
          "text": [
            "Requirement already satisfied: wget in /usr/local/lib/python3.7/dist-packages (3.2)\n",
            "Line 0: \n",
            "Line 1: Polka straciła 36 tys. zł: napastnik wykiwał zarówno ją, jak i bank\n",
            "Line 2: Chrome 86 na Androida pozwoli zaplanować pobieranie. Można już testować\n",
            "Line 3: Poczta Polska i cyfrowa rewolucja. Identyfikacja RFID przyspieszy wysyłki\n",
            "Line 4: GOG GALAXY 2.0 łączy siły z Epic Games Store. Jest wreszcie oficjalna integracja\n"
          ],
          "name": "stdout"
        }
      ]
    },
    {
      "cell_type": "markdown",
      "metadata": {
        "id": "TlFyUf6ejYUW"
      },
      "source": [
        "# Kill all duplicates\n",
        "Enter input file with duplicates and output without. We go trought input file line by line and save only one the same line to output file."
      ]
    },
    {
      "cell_type": "code",
      "metadata": {
        "id": "7CbSj50l9HwZ",
        "colab": {
          "base_uri": "https://localhost:8080/"
        },
        "outputId": "61289e35-d446-4845-827d-13753224a3fe"
      },
      "source": [
        "#@title ## Enter files names\n",
        "import hashlib\n",
        "infilename = '/content/titles.txt' #@param {type:\"string\"}\n",
        "outfilename = \"/content/titlesCut.txt\"  #@param {type:\"string\"}\n",
        "duplicates = 0\n",
        "\n",
        "lines_seen = set() # holds lines already seen\n",
        "with open(outfilename, \"w\") as output_file:\n",
        "\tfor each_line in open(infilename, \"r\"):\n",
        "\t\tif each_line not in lines_seen: # check if line is not duplicate\n",
        "\t\t\toutput_file.write(each_line)\n",
        "\t\t\tlines_seen.add(each_line)\n",
        "\t\telse:\n",
        "\t\t\tduplicates += 1\n",
        "print(\"Duplicates removed: \" + str(duplicates))"
      ],
      "execution_count": 10,
      "outputs": [
        {
          "output_type": "stream",
          "text": [
            "Duplicates removed: 16859\n"
          ],
          "name": "stdout"
        }
      ]
    }
  ]
}